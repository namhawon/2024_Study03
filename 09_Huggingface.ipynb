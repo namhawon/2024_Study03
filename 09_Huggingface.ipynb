{
  "cells": [
    {
      "cell_type": "markdown",
      "metadata": {
        "id": "view-in-github",
        "colab_type": "text"
      },
      "source": [
        "<a href=\"https://colab.research.google.com/github/namhawon/2024_Study03/blob/main/09_Huggingface.ipynb\" target=\"_parent\"><img src=\"https://colab.research.google.com/assets/colab-badge.svg\" alt=\"Open In Colab\"/></a>"
      ]
    },
    {
      "cell_type": "markdown",
      "metadata": {
        "id": "q6SD0BU88J53"
      },
      "source": [
        "# Huggingface로 무엇을 할 수 있나요?\n",
        "\n",
        "https://huggingface.co/learn/nlp-course/ko/chapter1/3?fw=pt"
      ]
    },
    {
      "cell_type": "markdown",
      "metadata": {
        "id": "xIhn8i0A8J58"
      },
      "source": [
        "* feature-extraction : 특징 추출 (텍스트에 대한 벡터 표현 추출)\n",
        "* fill-mask : 마스크 채우기\n",
        "* ner : 개체명 인식 (named entity recognition)\n",
        "* question-answering : 질의 응답\n",
        "* sentiment-analysis : 감정 분석\n",
        "* summarization : 요약\n",
        "* text-generation : 텍스트 생성\n",
        "* translation : 번역\n",
        "* zero-shot-classification : 제로샷 분류"
      ]
    },
    {
      "cell_type": "code",
      "execution_count": null,
      "metadata": {
        "id": "trHboxeq8J58"
      },
      "outputs": [],
      "source": [
        "!pip install datasets evaluate transformers[sentencepiece]"
      ]
    },
    {
      "cell_type": "code",
      "source": [
        "from transformers import pipeline"
      ],
      "metadata": {
        "id": "LpUYrwaPdyjT"
      },
      "execution_count": null,
      "outputs": []
    },
    {
      "cell_type": "markdown",
      "source": [
        "## 제로샷 분류(Zero-shot classification)"
      ],
      "metadata": {
        "id": "Of-HRRF6-BA6"
      }
    },
    {
      "cell_type": "code",
      "source": [
        "classifier = pipeline(\"zero-shot-classification\")\n",
        "classifier(\n",
        "    \"We will learn about deep learning algorithm.\",\n",
        "    candidate_labels=[\"education\", \"politics\", \"business\"],\n",
        ")"
      ],
      "metadata": {
        "id": "WKO8U8kD7--I"
      },
      "execution_count": null,
      "outputs": []
    },
    {
      "cell_type": "code",
      "source": [
        "classifier(\n",
        "    \"우리는 이번 시간에 딥러닝의 기본 원리에 대해 배워보겠습니다.\",\n",
        "    candidate_labels=[\"education\", \"politics\", \"business\", \"health\"]\n",
        ")"
      ],
      "metadata": {
        "id": "o7oCsbsBF7Xc"
      },
      "execution_count": null,
      "outputs": []
    },
    {
      "cell_type": "markdown",
      "source": [
        "## sentiment-analysis : 감정 분석"
      ],
      "metadata": {
        "id": "OTzHUetD7vk7"
      }
    },
    {
      "cell_type": "code",
      "execution_count": null,
      "metadata": {
        "id": "ZL3fZQ4T8J5-"
      },
      "outputs": [],
      "source": [
        "classifier = pipeline(\"sentiment-analysis\")\n",
        "classifier(\"I have been waiting for you.\")"
      ]
    },
    {
      "cell_type": "code",
      "source": [
        "classifier(\n",
        "    [\"I hate this!\",\n",
        "     \"I like it\",\n",
        "     \"I love you\",\n",
        "     \"행복하다\",\n",
        "     \"슬프다\",\n",
        "     \"힘들다\"]\n",
        ")"
      ],
      "metadata": {
        "id": "IvW53H_rbmVr"
      },
      "execution_count": null,
      "outputs": []
    },
    {
      "cell_type": "code",
      "source": [
        "classifier(\"이 영화는 너무 재미있었다.\")"
      ],
      "metadata": {
        "id": "GDJSYX49EDjw"
      },
      "execution_count": null,
      "outputs": []
    },
    {
      "cell_type": "code",
      "source": [
        "classifier(\"행복한 기억이었다.\")"
      ],
      "metadata": {
        "id": "iFmCojVQEUKA"
      },
      "execution_count": null,
      "outputs": []
    },
    {
      "cell_type": "code",
      "source": [
        "classifier(\"너무 피곤하고 힘들다\")"
      ],
      "metadata": {
        "id": "h1_uGWbGEYfm"
      },
      "execution_count": null,
      "outputs": []
    },
    {
      "cell_type": "markdown",
      "source": [
        "## 텍스트 생성(Text generation)"
      ],
      "metadata": {
        "id": "yGyUCyi1-wfO"
      }
    },
    {
      "cell_type": "code",
      "execution_count": null,
      "metadata": {
        "id": "CZl5tQai8J6A"
      },
      "outputs": [],
      "source": [
        "from transformers import pipeline\n",
        "\n",
        "generator = pipeline(\"text-generation\")\n",
        "generator(\"In this course, we will learn about how to deep learning advanced\")"
      ]
    },
    {
      "cell_type": "code",
      "source": [
        "generator(\"lunch menu?\")"
      ],
      "metadata": {
        "id": "3DLcTFUUEsqV"
      },
      "execution_count": null,
      "outputs": []
    },
    {
      "cell_type": "code",
      "execution_count": null,
      "metadata": {
        "id": "hWXYjsHG8J6B"
      },
      "outputs": [],
      "source": [
        "generator = pipeline(\"text-generation\", model=\"distilgpt2\")\n",
        "generator(\n",
        "    \"In this course, we will teach you how to\",\n",
        "    max_length=30,\n",
        "    num_return_sequences=2,\n",
        ")"
      ]
    },
    {
      "cell_type": "markdown",
      "source": [
        "## 마스크 채우기\n",
        "\n",
        "\n"
      ],
      "metadata": {
        "id": "EFYoka_PAFqX"
      }
    },
    {
      "cell_type": "code",
      "execution_count": null,
      "metadata": {
        "id": "aCarLfuw8J6C"
      },
      "outputs": [],
      "source": [
        "mask_fill = pipeline(\"fill-mask\")\n",
        "mask_fill(\"This course will teach you about <mask> theorem.\", top_k=2)"
      ]
    },
    {
      "cell_type": "code",
      "source": [
        "mask_fill(\"I eat bread with <mask>.\", top_k=2)"
      ],
      "metadata": {
        "id": "dK0R9iYKFdzh"
      },
      "execution_count": null,
      "outputs": []
    },
    {
      "cell_type": "markdown",
      "source": [
        "### klue/bert-base"
      ],
      "metadata": {
        "id": "zkyu62E9ArlV"
      }
    },
    {
      "cell_type": "code",
      "source": [
        "mask_fill_ko = pipeline(\"fill-mask\", model=\"klue/bert-base\")\n",
        "mask_fill_ko (\"한국인이 가장 좋아하는 음식은 [MASK] 입니다.\", top_k=2)"
      ],
      "metadata": {
        "id": "NNguSu84gjPk"
      },
      "execution_count": null,
      "outputs": []
    },
    {
      "cell_type": "code",
      "source": [
        "mask_fill_ko  = pipeline(\"fill-mask\", model=\"klue/bert-base\")\n",
        "mask_fill_ko (\"한국인이 좋아하는 국가는 [MASK] 이다.\", top_k=2)"
      ],
      "metadata": {
        "id": "O4nidcPWAkbq"
      },
      "execution_count": null,
      "outputs": []
    },
    {
      "cell_type": "markdown",
      "source": [
        "## 개체명 인식(Named entity recognition)"
      ],
      "metadata": {
        "id": "oHxnP6y8BoFG"
      }
    },
    {
      "cell_type": "code",
      "execution_count": null,
      "metadata": {
        "id": "n0oEihWy8J6D"
      },
      "outputs": [],
      "source": [
        "from transformers import pipeline\n",
        "\n",
        "ner = pipeline(\"ner\", grouped_entities=True)\n",
        "ner(\"Alice lives in Seattle and works as a software engineer at Amazon.\")"
      ]
    },
    {
      "cell_type": "code",
      "source": [
        "ner(\"My Name is Sieun Hyeon. I live in Korea.\")"
      ],
      "metadata": {
        "id": "UATF_2wCKKzd"
      },
      "execution_count": null,
      "outputs": []
    },
    {
      "cell_type": "markdown",
      "source": [
        "## 질의 응답(Question-answering)"
      ],
      "metadata": {
        "id": "IecEcGppCJpj"
      }
    },
    {
      "cell_type": "code",
      "execution_count": null,
      "metadata": {
        "id": "J_tbCiAq8J6D"
      },
      "outputs": [],
      "source": [
        "from transformers import pipeline\n",
        "\n",
        "question_answerer = pipeline(\"question-answering\")\n",
        "question_answerer(\n",
        "    context=\"Alice lives in Seattle and works as a software engineer at Amazon.\",\n",
        "    question=\"What is Alice's job?\",\n",
        ")"
      ]
    },
    {
      "cell_type": "markdown",
      "source": [
        "## 요약(Summarization)"
      ],
      "metadata": {
        "id": "Njylb61xCFpX"
      }
    },
    {
      "cell_type": "code",
      "source": [
        "from transformers import pipeline\n",
        "\n",
        "summarizer = pipeline(\"summarization\")\n",
        "summarizer(\n",
        "    \"\"\"\n",
        "The rapid advancement of technology has significantly transformed our daily lives.\n",
        "Mobile devices like smartphones have revolutionized the way we communicate,\n",
        "while social media platforms enable us to connect with people around the world.\n",
        "Additionally, artificial intelligence and machine learning technologies are increasing efficiency in various industries,\n",
        "and cutting-edge innovations such as autonomous vehicles are fundamentally changing our modes of transportation.\n",
        "These changes create new opportunities but also present new challenges, such as concerns about privacy.\n",
        "Therefore, it is essential to maximize the benefits of technology while carefully managing its potential risks.\n",
        "\"\"\"\n",
        ")"
      ],
      "metadata": {
        "id": "TBaJrMZuDvJS"
      },
      "execution_count": null,
      "outputs": []
    },
    {
      "cell_type": "markdown",
      "source": [
        "https://huggingface.co/gogamza/kobart-summarization"
      ],
      "metadata": {
        "id": "nqRXef2sI3N1"
      }
    },
    {
      "cell_type": "code",
      "execution_count": null,
      "metadata": {
        "id": "duXAhdqR8J6E"
      },
      "outputs": [],
      "source": [
        "from transformers import pipeline\n",
        "\n",
        "summarizer = pipeline(\"summarization\", model=\"gogamza/kobart-summarization\")\n",
        "summarizer(\n",
        "    \"\"\"기술의 급속한 발전은 우리의 일상 생활을 크게 변화시키고 있다. 스마트폰과 같은 모바일 기기는 우리의 소통 방식을 혁신하였으며, 소셜 미디어 플랫폼은 전 세계 사람들과의 연결을 가능하게 만들었다. 또한, 인공지능과 머신러닝 기술은 다양한 산업에서 효율성을 증대시키고 있으며, 자율주행차와 같은 첨단 기술은 우리의 이동 수단을 근본적으로 바꾸고 있다. 이러한 변화는 새로운 기회를 창출하는 동시에, 개인 정보 보호와 같은 새로운 도전 과제를 제시하고 있다. 따라서 우리는 기술의 이점을 최대한 활용하면서도, 그로 인한 잠재적 위험을 신중하게 관리해야 한다.\n",
        "\"\"\"\n",
        ")"
      ]
    },
    {
      "cell_type": "markdown",
      "source": [
        "## 번역(Translation)\n",
        "\n",
        "* https://huggingface.co/models"
      ],
      "metadata": {
        "id": "w3nTfoMfCURk"
      }
    },
    {
      "cell_type": "code",
      "source": [
        "from transformers import pipeline\n",
        "\n",
        "translator = pipeline(\"translation\", model=\"Helsinki-NLP/opus-mt-fr-en\")\n",
        "translator(\"Ce cours est produit par Hugging Face.\")"
      ],
      "metadata": {
        "id": "x0KM68YWCa8i"
      },
      "execution_count": null,
      "outputs": []
    },
    {
      "cell_type": "markdown",
      "source": [
        "https://huggingface.co/Helsinki-NLP/opus-mt-ko-en"
      ],
      "metadata": {
        "id": "6igsNwx1Gq0V"
      }
    },
    {
      "cell_type": "code",
      "execution_count": null,
      "metadata": {
        "id": "SpYkGVM88J6F"
      },
      "outputs": [],
      "source": [
        "from transformers import pipeline\n",
        "\n",
        "translator = pipeline(\"translation\", model=\"Helsinki-NLP/opus-mt-ko-en\")\n",
        "translator(\"\"\"안녕하세요. 비가 많이 내리고 나서 날씨가 더워졌습니다.\"\"\")"
      ]
    },
    {
      "cell_type": "code",
      "source": [
        "translator(\"\"\"\n",
        "오늘의 강의에서는 딥러닝의 최신 기법들을 다룰 예정입니다.\n",
        "데이터 전처리는 머신러닝 모델의 성능을 크게 향상시킬 수 있습니다.\n",
        "신경망의 다양한 층을 이해하면 모델을 더 효과적으로 설계할 수 있습니다.\n",
        "\"\"\")"
      ],
      "metadata": {
        "id": "PADzGkBZKBcR"
      },
      "execution_count": null,
      "outputs": []
    },
    {
      "cell_type": "markdown",
      "source": [
        "# 데이터셋 불러와보기\n",
        "\n",
        "https://huggingface.co/datasets/dair-ai/emotion"
      ],
      "metadata": {
        "id": "HV2Vv-YfPUkr"
      }
    },
    {
      "cell_type": "code",
      "source": [
        "from datasets import load_dataset\n",
        "\n",
        "emotion_dataset = load_dataset(\"dair-ai/emotion\")\n",
        "emotion_dataset"
      ],
      "metadata": {
        "id": "685WfrisPVqA"
      },
      "execution_count": null,
      "outputs": []
    }
  ],
  "metadata": {
    "colab": {
      "provenance": [],
      "include_colab_link": true
    },
    "language_info": {
      "name": "python"
    },
    "kernelspec": {
      "name": "python3",
      "display_name": "Python 3"
    },
    "gpuClass": "standard"
  },
  "nbformat": 4,
  "nbformat_minor": 0
}