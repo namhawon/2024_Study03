{
  "cells": [
    {
      "cell_type": "markdown",
      "metadata": {
        "id": "view-in-github",
        "colab_type": "text"
      },
      "source": [
        "<a href=\"https://colab.research.google.com/github/namhawon/2024_Study03/blob/main/11_Gemini.ipynb\" target=\"_parent\"><img src=\"https://colab.research.google.com/assets/colab-badge.svg\" alt=\"Open In Colab\"/></a>"
      ]
    },
    {
      "cell_type": "code",
      "execution_count": null,
      "metadata": {
        "id": "KmT4jenPsuv_"
      },
      "outputs": [],
      "source": [
        "!pip install -q -U google-generativeai"
      ]
    },
    {
      "cell_type": "code",
      "execution_count": null,
      "metadata": {
        "id": "oDOtxrkLs80n"
      },
      "outputs": [],
      "source": [
        "import pathlib\n",
        "import textwrap\n",
        "\n",
        "import google.generativeai as genai\n",
        "\n",
        "GOOGLE_API_KEY= '<<ENTER YOUT API KEY>>'\n",
        "\n",
        "genai.configure(api_key=GOOGLE_API_KEY)"
      ]
    },
    {
      "cell_type": "markdown",
      "metadata": {
        "id": "423xGcs-eSFM"
      },
      "source": [
        "# How to use"
      ]
    },
    {
      "cell_type": "code",
      "execution_count": null,
      "metadata": {
        "id": "nkbQEqKPeRp_"
      },
      "outputs": [],
      "source": [
        "model = genai.GenerativeModel('gemini-pro')\n",
        "response = model.generate_content(\"Tell me about Newton's second law.\")\n",
        "print(response.text)"
      ]
    },
    {
      "cell_type": "markdown",
      "metadata": {
        "id": "80cNapHYiRNj"
      },
      "source": [
        "# 역할 부여하기"
      ]
    },
    {
      "cell_type": "code",
      "execution_count": null,
      "metadata": {
        "id": "0rgobTWZjEbZ"
      },
      "outputs": [],
      "source": [
        "model = genai.GenerativeModel('gemini-pro')\n",
        "instruction = \"You are an elementary school physics teacher.\"\n",
        "prompt = \"Tell me about Newton's second law.\""
      ]
    },
    {
      "cell_type": "code",
      "execution_count": null,
      "metadata": {
        "id": "uRdjqk7gjEY5"
      },
      "outputs": [],
      "source": [
        "# 전체 프롬프트 생성 (instruction 포함)\n",
        "full_prompt = f\"{instruction}\\n{prompt}\"\n",
        "# 모델 호출\n",
        "response = model.generate_content(full_prompt)"
      ]
    },
    {
      "cell_type": "code",
      "execution_count": null,
      "metadata": {
        "id": "5NcBkuRUjUul"
      },
      "outputs": [],
      "source": [
        "print(response.text)"
      ]
    },
    {
      "cell_type": "markdown",
      "metadata": {
        "id": "JJoRZHimcfev"
      },
      "source": [
        "# Instruction 추가하기"
      ]
    },
    {
      "cell_type": "code",
      "execution_count": null,
      "metadata": {
        "id": "_ZZsol3giQ2S"
      },
      "outputs": [],
      "source": [
        "instruction = \"You must explain the concept with example problems.\"\n",
        "prompt = \"Tell me about Newton's second law.\""
      ]
    },
    {
      "cell_type": "code",
      "execution_count": null,
      "metadata": {
        "id": "nJ5eXNkqiQxW"
      },
      "outputs": [],
      "source": [
        "model = genai.GenerativeModel('gemini-pro')\n",
        "# 전체 프롬프트 생성 (instruction 포함)\n",
        "full_prompt = f\"{instruction}\\n{prompt}\"\n",
        "# 모델 호출\n",
        "response = model.generate_content(full_prompt)"
      ]
    },
    {
      "cell_type": "code",
      "execution_count": null,
      "metadata": {
        "id": "Ygozmye9i9iU"
      },
      "outputs": [],
      "source": [
        "print(response.text)"
      ]
    },
    {
      "cell_type": "markdown",
      "metadata": {
        "id": "tF_Ky3Zxjrhg"
      },
      "source": [
        "# 할루시네이션"
      ]
    },
    {
      "cell_type": "code",
      "execution_count": null,
      "metadata": {
        "id": "joyVKApEjrDJ"
      },
      "outputs": [],
      "source": [
        "model = genai.GenerativeModel('gemini-pro')\n",
        "response = model.generate_content(\"Use the four basic operations (+, -, /, *) to appropriately operate 4, 9, 10, 13 to make 24.\")\n",
        "print(response.text)"
      ]
    },
    {
      "cell_type": "markdown",
      "metadata": {
        "id": "2ntFakgjjVZJ"
      },
      "source": [
        "# Few shot Prompting"
      ]
    },
    {
      "cell_type": "code",
      "execution_count": null,
      "metadata": {
        "id": "Dk_2bPr5rV5p"
      },
      "outputs": [],
      "source": [
        "prompt = \"\"\"\n",
        "The movie was good // positive\n",
        "The movie was quite bad // negative\n",
        "I really like the movie, but the ending was lacking // neutral\n",
        "I loved the movie //\n",
        "\"\"\""
      ]
    },
    {
      "cell_type": "code",
      "execution_count": null,
      "metadata": {
        "id": "13Rd9uv8rVwo"
      },
      "outputs": [],
      "source": [
        "model = genai.GenerativeModel('gemini-pro')\n",
        "# 전체 프롬프트 생성 (instruction 포함)\n",
        "response = model.generate_content(prompt)"
      ]
    },
    {
      "cell_type": "code",
      "execution_count": null,
      "metadata": {
        "id": "jOGi3kvIruhQ"
      },
      "outputs": [],
      "source": [
        "print(response.text)"
      ]
    },
    {
      "cell_type": "markdown",
      "metadata": {
        "id": "O2tN2ihZrWdg"
      },
      "source": [
        "# 추론 task에서는 소용이 없다..."
      ]
    },
    {
      "cell_type": "code",
      "execution_count": null,
      "metadata": {
        "id": "D_kwyMxGoY5G"
      },
      "outputs": [],
      "source": [
        "model = genai.GenerativeModel('gemini-pro')\n",
        "response = model.generate_content(\"Is that True? : The odd numbers in 15, 32, 5, 13, 82, 7, 1 add up to an even number.\")\n",
        "print(response.text)"
      ]
    },
    {
      "cell_type": "code",
      "execution_count": null,
      "metadata": {
        "id": "dBW_-L9rbqvj"
      },
      "outputs": [],
      "source": [
        "model = genai.GenerativeModel('gemini-pro')\n",
        "#프롬프트\n",
        "prompt = \"\"\"\n",
        "The odd numbers in this group add up to an even number: 4, 8, 9, 15, 12, 2, 1.\n",
        "A: The answer is False.\n",
        "The odd numbers in this group add up to an even number: 17,  10, 19, 4, 8, 12, 24.\n",
        "A: The answer is True.\n",
        "The odd numbers in this group add up to an even number: 16,  11, 14, 4, 8, 13, 24.\n",
        "A: The answer is True.\n",
        "The odd numbers in this group add up to an even number: 17,  9, 10, 12, 13, 4, 2.\n",
        "A: The answer is False.\n",
        "The odd numbers in this group add up to an even number: 15, 32, 5, 13, 82, 7, 1.\n",
        "A:\n",
        "\"\"\"\n",
        "# 모델 호출\n",
        "response = model.generate_content(prompt)\n",
        "print(response.text)"
      ]
    },
    {
      "cell_type": "markdown",
      "metadata": {
        "id": "wNCwveFJc_jy"
      },
      "source": [
        "# Chain of Thought"
      ]
    },
    {
      "cell_type": "code",
      "execution_count": null,
      "metadata": {
        "id": "pXbofNnBdBTu"
      },
      "outputs": [],
      "source": [
        "instruction = \"Let's think step by step. Explain about your thought.\"\n",
        "prompt = \"\"\"\n",
        "The odd numbers in this group add up to an even number: 4, 8, 9, 15, 12, 2, 1.\n",
        "A: The answer is False.\n",
        "The odd numbers in this group add up to an even number: 17,  10, 19, 4, 8, 12, 24.\n",
        "A: The answer is True.\n",
        "The odd numbers in this group add up to an even number: 16,  11, 14, 4, 8, 13, 24.\n",
        "A: The answer is True.\n",
        "The odd numbers in this group add up to an even number: 17,  9, 10, 12, 13, 4, 2.\n",
        "A: The answer is False.\n",
        "The odd numbers in this group add up to an even number: 15, 32, 5, 13, 82, 7, 1.\n",
        "A:\n",
        "\"\"\""
      ]
    },
    {
      "cell_type": "code",
      "execution_count": null,
      "metadata": {
        "id": "sWwve_j1ojgK"
      },
      "outputs": [],
      "source": [
        "model = genai.GenerativeModel('gemini-pro')\n",
        "# 전체 프롬프트 생성 (instruction 포함)\n",
        "full_prompt = f\"{instruction}\\n{prompt}\"\n",
        "# 모델 호출\n",
        "response = model.generate_content(full_prompt)"
      ]
    },
    {
      "cell_type": "code",
      "execution_count": null,
      "metadata": {
        "id": "CMGs5mF1okda"
      },
      "outputs": [],
      "source": [
        "print(response.text)"
      ]
    },
    {
      "cell_type": "markdown",
      "metadata": {
        "id": "VV_YLubWsK5F"
      },
      "source": [
        "# **과제** :\n",
        "\n",
        "아래 문제에서는 할루시네이션이 발생한다. (답은 10 apples가 나와야 한다.)"
      ]
    },
    {
      "cell_type": "code",
      "execution_count": null,
      "metadata": {
        "id": "_xAUx2io0XWr"
      },
      "outputs": [],
      "source": [
        "prompt = \"\"\"\n",
        "I went to the market and bought 10 apples. I gave 2 apples to the neighbor and 2 to the repairman.\n",
        "I then went and bought 5 more apples and ate 1. How many apples did I remain with?\n",
        "\"\"\""
      ]
    },
    {
      "cell_type": "code",
      "execution_count": null,
      "metadata": {
        "id": "5dlwf2MA0S-D"
      },
      "outputs": [],
      "source": [
        "model = genai.GenerativeModel('gemini-pro')\n",
        "# 전체 프롬프트 생성 (instruction 포함)\n",
        "response = model.generate_content(prompt)"
      ]
    },
    {
      "cell_type": "code",
      "execution_count": null,
      "metadata": {
        "id": "c9yFDZWh0cS9"
      },
      "outputs": [],
      "source": [
        "print(response.text)"
      ]
    },
    {
      "cell_type": "markdown",
      "metadata": {
        "id": "lVE6QFKE0eEk"
      },
      "source": [
        "***할루시네이션이 발생한 위의 문제를 올바르게 풀게끔 프롬프트를 만들어보세요.***"
      ]
    },
    {
      "cell_type": "code",
      "execution_count": null,
      "metadata": {
        "id": "_enfGnTsseBq"
      },
      "outputs": [],
      "source": [
        "instruction = \"-------------------------------------------------\"\n",
        "prompt = \"\"\"\n",
        "-------------------------------------------------\n",
        "------------Enter Your Prompt Here---------------\n",
        "-------------------------------------------------\n",
        "\"\"\""
      ]
    },
    {
      "cell_type": "code",
      "execution_count": null,
      "metadata": {
        "id": "UiD3FYlytZX5"
      },
      "outputs": [],
      "source": [
        "model = genai.GenerativeModel('gemini-pro')\n",
        "# 전체 프롬프트 생성 (instruction 포함)\n",
        "full_prompt = f\"{instruction}\\n{prompt}\"\n",
        "# 모델 호출\n",
        "response = model.generate_content(full_prompt)"
      ]
    },
    {
      "cell_type": "code",
      "execution_count": null,
      "metadata": {
        "id": "CarzvepftaPn"
      },
      "outputs": [],
      "source": [
        "print(response.text)"
      ]
    }
  ],
  "metadata": {
    "colab": {
      "provenance": [],
      "include_colab_link": true
    },
    "kernelspec": {
      "display_name": "Python 3",
      "name": "python3"
    },
    "language_info": {
      "name": "python"
    }
  },
  "nbformat": 4,
  "nbformat_minor": 0
}